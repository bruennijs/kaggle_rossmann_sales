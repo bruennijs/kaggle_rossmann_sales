{
 "cells": [
  {
   "cell_type": "markdown",
   "metadata": {
    "collapsed": true,
    "pycharm": {
     "name": "#%% md\n"
    }
   },
   "source": [
    "# Introduction\n",
    "Inspired by predicting sales of things dependent of multivariate observations (eg day of week, holidays) and so on\n",
    "\n",
    "## Prepare data\n",
    "Before using deflate train and test data that has been downloaded before (kaggle competitions download -c rossmann-store-sales).\n",
    "\n",
    "```\n",
    "unzip -d ./input/rossmann-store-sales.zip ./input/\n",
    "```\n",
    "\n",
    "## Further literature\n",
    "- [kaggle competition](https://www.kaggle.com/c/rossmann-store-sales)\n",
    "- https://www.mdpi.com/2306-5729/4/1/15\n",
    "- http://cs229.stanford.edu/proj2015/205_report.pdf"
   ]
  },
  {
   "cell_type": "code",
   "execution_count": null,
   "outputs": [],
   "source": [
    "StandardScaler()"
   ],
   "metadata": {
    "collapsed": false,
    "pycharm": {
     "name": "#%%\n"
    }
   }
  },
  {
   "cell_type": "code",
   "execution_count": null,
   "outputs": [],
   "source": [],
   "metadata": {
    "collapsed": false,
    "pycharm": {
     "name": "#%%"
    }
   }
  }
 ],
 "metadata": {
  "kernelspec": {
   "display_name": "Python 3",
   "language": "python",
   "name": "python3"
  },
  "language_info": {
   "codemirror_mode": {
    "name": "ipython",
    "version": 2
   },
   "file_extension": ".py",
   "mimetype": "text/x-python",
   "name": "python",
   "nbconvert_exporter": "python",
   "pygments_lexer": "ipython2",
   "version": "2.7.6"
  }
 },
 "nbformat": 4,
 "nbformat_minor": 0
}