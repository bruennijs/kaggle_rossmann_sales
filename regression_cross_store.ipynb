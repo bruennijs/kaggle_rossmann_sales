{
 "cells": [
  {
   "cell_type": "markdown",
   "metadata": {
    "collapsed": true,
    "pycharm": {
     "name": "#%% md\n"
    }
   },
   "source": [
    "# Introduction\n",
    "Inspired by predicting sales of things dependent of multivariate observations (eg day of week, holidays) and so on\n",
    "\n",
    "## Prepare data\n",
    "Before using deflate train and test data that has been downloaded before (kaggle competitions download -c rossmann-store-sales).\n",
    "\n",
    "```\n",
    "unzip -d ./input/rossmann-store-sales.zip ./input/\n",
    "```\n",
    "\n",
    "## Further literature\n",
    "- [kaggle competition](https://www.kaggle.com/c/rossmann-store-sales)\n",
    "- https://www.mdpi.com/2306-5729/4/1/15\n",
    "- http://cs229.stanford.edu/proj2015/205_report.pdf\n"
   ]
  },
  {
   "cell_type": "markdown",
   "source": [
    "# Preprocessing\n",
    "Feature engineering, create categorial columns"
   ],
   "metadata": {
    "collapsed": false,
    "pycharm": {
     "name": "#%% md\n"
    }
   }
  },
  {
   "cell_type": "code",
   "execution_count": 2,
   "outputs": [
    {
     "name": "stdout",
     "output_type": "stream",
     "text": [
      "<class 'pandas.core.frame.DataFrame'>\n",
      "RangeIndex: 1017209 entries, 0 to 1017208\n",
      "Data columns (total 12 columns):\n",
      " #   Column         Non-Null Count    Dtype         \n",
      "---  ------         --------------    -----         \n",
      " 0   Store          1017209 non-null  int64         \n",
      " 1   DayOfWeek      1017209 non-null  category      \n",
      " 2   Date           1017209 non-null  datetime64[ns]\n",
      " 3   Sales          1017209 non-null  int64         \n",
      " 4   Customers      1017209 non-null  int64         \n",
      " 5   Open           1017209 non-null  bool          \n",
      " 6   Promo          1017209 non-null  bool          \n",
      " 7   StateHoliday   1017209 non-null  category      \n",
      " 8   SchoolHoliday  1017209 non-null  bool          \n",
      " 9   Month          1017209 non-null  period[M]     \n",
      " 10  Year           1017209 non-null  period[A-DEC] \n",
      " 11  Month_str      1017209 non-null  object        \n",
      "dtypes: bool(3), category(2), datetime64[ns](1), int64(3), object(1), period[A-DEC](1), period[M](1)\n",
      "memory usage: 59.2+ MB\n",
      "<class 'pandas.core.frame.DataFrame'>\n",
      "RangeIndex: 33485 entries, 0 to 33484\n",
      "Data columns (total 5 columns):\n",
      " #   Column     Non-Null Count  Dtype    \n",
      "---  ------     --------------  -----    \n",
      " 0   Store      33485 non-null  int64    \n",
      " 1   Month      33485 non-null  period[M]\n",
      " 2   Sales      33485 non-null  int64    \n",
      " 3   Month_str  33485 non-null  object   \n",
      " 4   Year       33485 non-null  int64    \n",
      "dtypes: int64(3), object(1), period[M](1)\n",
      "memory usage: 1.3+ MB\n"
     ]
    },
    {
     "data": {
      "text/plain": "   Store    Month   Sales Month_str  Year\n0      1  2013-01  128431   2013-01  2013\n1      1  2013-02  125271   2013-02  2013\n2      1  2013-03  145169   2013-03  2013\n3      1  2013-04  118009   2013-04  2013\n4      1  2013-05  118225   2013-05  2013\n5      1  2013-06  113411   2013-06  2013\n6      1  2013-07  128032   2013-07  2013\n7      1  2013-08  118320   2013-08  2013\n8      1  2013-09  108867   2013-09  2013\n9      1  2013-10  114641   2013-10  2013",
      "text/html": "<div>\n<style scoped>\n    .dataframe tbody tr th:only-of-type {\n        vertical-align: middle;\n    }\n\n    .dataframe tbody tr th {\n        vertical-align: top;\n    }\n\n    .dataframe thead th {\n        text-align: right;\n    }\n</style>\n<table border=\"1\" class=\"dataframe\">\n  <thead>\n    <tr style=\"text-align: right;\">\n      <th></th>\n      <th>Store</th>\n      <th>Month</th>\n      <th>Sales</th>\n      <th>Month_str</th>\n      <th>Year</th>\n    </tr>\n  </thead>\n  <tbody>\n    <tr>\n      <th>0</th>\n      <td>1</td>\n      <td>2013-01</td>\n      <td>128431</td>\n      <td>2013-01</td>\n      <td>2013</td>\n    </tr>\n    <tr>\n      <th>1</th>\n      <td>1</td>\n      <td>2013-02</td>\n      <td>125271</td>\n      <td>2013-02</td>\n      <td>2013</td>\n    </tr>\n    <tr>\n      <th>2</th>\n      <td>1</td>\n      <td>2013-03</td>\n      <td>145169</td>\n      <td>2013-03</td>\n      <td>2013</td>\n    </tr>\n    <tr>\n      <th>3</th>\n      <td>1</td>\n      <td>2013-04</td>\n      <td>118009</td>\n      <td>2013-04</td>\n      <td>2013</td>\n    </tr>\n    <tr>\n      <th>4</th>\n      <td>1</td>\n      <td>2013-05</td>\n      <td>118225</td>\n      <td>2013-05</td>\n      <td>2013</td>\n    </tr>\n    <tr>\n      <th>5</th>\n      <td>1</td>\n      <td>2013-06</td>\n      <td>113411</td>\n      <td>2013-06</td>\n      <td>2013</td>\n    </tr>\n    <tr>\n      <th>6</th>\n      <td>1</td>\n      <td>2013-07</td>\n      <td>128032</td>\n      <td>2013-07</td>\n      <td>2013</td>\n    </tr>\n    <tr>\n      <th>7</th>\n      <td>1</td>\n      <td>2013-08</td>\n      <td>118320</td>\n      <td>2013-08</td>\n      <td>2013</td>\n    </tr>\n    <tr>\n      <th>8</th>\n      <td>1</td>\n      <td>2013-09</td>\n      <td>108867</td>\n      <td>2013-09</td>\n      <td>2013</td>\n    </tr>\n    <tr>\n      <th>9</th>\n      <td>1</td>\n      <td>2013-10</td>\n      <td>114641</td>\n      <td>2013-10</td>\n      <td>2013</td>\n    </tr>\n  </tbody>\n</table>\n</div>"
     },
     "execution_count": 2,
     "metadata": {},
     "output_type": "execute_result"
    }
   ],
   "source": [
    "import pandas as pd\n",
    "from pandas import DataFrame\n",
    "\n",
    "from IPython.core.interactiveshell import InteractiveShell\n",
    "InteractiveShell.ast_node_interactivity = \"all\"\n",
    "\n",
    "df_train: DataFrame = pd.read_csv('./input/train.csv', parse_dates=['Date'], dtype={'StateHoliday': str, 'Open': bool, 'Promo': bool, 'SchoolHoliday': bool})\n",
    "\n",
    "# FEATURE ENGINEERING\n",
    "## month\n",
    "df_train['Month'] = pd.DatetimeIndex(df_train['Date']).to_period('M')\n",
    "df_train['Year'] = pd.DatetimeIndex(df_train['Date']).to_period('Y')\n",
    "df_train['Month_str'] = df_train['Month'].map(lambda month_period:month_period.strftime('%Y-%m'))\n",
    "\n",
    "## StateHoliday -> categorial\n",
    "df_train['StateHoliday'] = df_train['StateHoliday'].astype('category')\n",
    "\n",
    "## StateHoliday -> categorial\n",
    "df_train['DayOfWeek'] = df_train['DayOfWeek'].astype('category')\n",
    "\n",
    "df_train.info()\n",
    "df_train.head(5)\n",
    "\n",
    "\n",
    "\n",
    "# ==== MONTHLY sales =====\n",
    "s_sales_monthly: pd.Series = df_train.groupby(by=['Store', 'Month']).Sales.sum()\n",
    "df_sales_monthly = s_sales_monthly.reset_index(drop=False) # Sets columns of MUltiIndex as columns of\n",
    "df_sales_monthly['Month_str'] = df_sales_monthly['Month'].map(lambda month_period:month_period.strftime('%Y-%m'))\n",
    "df_sales_monthly['Year'] = df_sales_monthly['Month'].map(lambda month_period:month_period.strftime('%Y')).astype('int64')\n",
    "# dataframe with drop=False\n",
    "df_sales_monthly.info()\n",
    "df_sales_monthly.head(10)\n",
    "\n",
    "\n",
    "\n",
    "\n"
   ],
   "metadata": {
    "collapsed": false,
    "pycharm": {
     "name": "#%%\n"
    }
   }
  },
  {
   "cell_type": "markdown",
   "source": [
    "Plot monthly sales per Store"
   ],
   "metadata": {
    "collapsed": false
   }
  },
  {
   "cell_type": "code",
   "execution_count": null,
   "outputs": [],
   "source": [
    "import seaborn as sns\n",
    "import matplotlib.pyplot as plt\n",
    "\n",
    "# Count of month per Store\n",
    "#print(df_sales_monthly.groupby(by=['Store']).count())\n",
    "\n",
    "df_sales_monthly_stores_range = df_sales_monthly[(df_sales_monthly['Store'] < 6) & (df_sales_monthly['Store'] > 0)]\n",
    "\n",
    "# First n stores\n",
    "df_train_stores_range: DataFrame = df_train[(df_train['Store'] < 6) & (df_train['Store'] > 0)]\n",
    "#df_train_stores_5.head(10)\n",
    "\n",
    "# Monthly sales hue'ed by n Stores for one year\n",
    "sns.relplot(data=df_sales_monthly_stores_range[df_sales_monthly_stores_range['Year'] == 2014], x=\"Month_str\", y=\"Sales\", hue=\"Store\", kind='line', height=20.0, aspect=1.5)\n",
    "plt.show()"
   ],
   "metadata": {
    "collapsed": false,
    "pycharm": {
     "name": "#%%\n"
    }
   }
  }
 ],
 "metadata": {
  "kernelspec": {
   "display_name": "Python 3",
   "language": "python",
   "name": "python3"
  },
  "language_info": {
   "codemirror_mode": {
    "name": "ipython",
    "version": 2
   },
   "file_extension": ".py",
   "mimetype": "text/x-python",
   "name": "python",
   "nbconvert_exporter": "python",
   "pygments_lexer": "ipython2",
   "version": "2.7.6"
  }
 },
 "nbformat": 4,
 "nbformat_minor": 0
}